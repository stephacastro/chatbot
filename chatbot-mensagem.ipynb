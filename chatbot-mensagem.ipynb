{
 "cells": [
  {
   "cell_type": "markdown",
   "id": "f8c41bed",
   "metadata": {},
   "source": [
    "### ChatBot Mensagem"
   ]
  },
  {
   "cell_type": "code",
   "execution_count": null,
   "id": "a9935dcc",
   "metadata": {},
   "outputs": [],
   "source": [
    "from chatterbot import ChatBot # MODULO DO CHATBOT\n",
    "from chatterbot.trainers import ListTrainer # MODULO DE TREINAMENTO\n",
    "\n",
    "# corrigindo erro de incompatibilidade \n",
    "from spacy.cli import download\n",
    "\n",
    "download(\"en_core_web_sm\")\n",
    "\n",
    "class ENGSM:\n",
    "    ISO_639_1 = 'en_core_web_sm'"
   ]
  },
  {
   "cell_type": "code",
   "execution_count": null,
   "id": "ef04f1df",
   "metadata": {},
   "outputs": [],
   "source": [
    "chatbot = ChatBot('Bot', tagger_language=ENGSM)"
   ]
  },
  {
   "cell_type": "code",
   "execution_count": null,
   "id": "84f0451e",
   "metadata": {},
   "outputs": [],
   "source": [
    "conversa = ['Olá, tudo bem?',\n",
    "           'Tudo sim! e com você?',\n",
    "           'Estou bem, obrigada',\n",
    "           'Até a próxima!',\n",
    "           'Até!!']\n",
    "\n",
    "trainer = ListTrainer(chatbot)\n",
    "trainer.train(conversa)"
   ]
  },
  {
   "cell_type": "code",
   "execution_count": null,
   "id": "698f3929",
   "metadata": {},
   "outputs": [],
   "source": [
    "chatbot.get_response('Olá, tudo bem?')"
   ]
  },
  {
   "cell_type": "code",
   "execution_count": null,
   "id": "14da4ce5",
   "metadata": {},
   "outputs": [],
   "source": [
    "while True:\n",
    "    mensagem = input('Mande uma mensagem para o ChatBot: ')\n",
    "    if mensagem == 'parar':\n",
    "        break\n",
    "    resposta = chatbot.get_response(mensagem)\n",
    "    print(resposta)"
   ]
  },
  {
   "cell_type": "code",
   "execution_count": 17,
   "id": "c524ba34",
   "metadata": {},
   "outputs": [],
   "source": [
    "# drop no armazenamento \n",
    "chatbot.storage.drop()"
   ]
  }
 ],
 "metadata": {
  "kernelspec": {
   "display_name": "Python 3",
   "language": "python",
   "name": "python3"
  },
  "language_info": {
   "codemirror_mode": {
    "name": "ipython",
    "version": 3
   },
   "file_extension": ".py",
   "mimetype": "text/x-python",
   "name": "python",
   "nbconvert_exporter": "python",
   "pygments_lexer": "ipython3",
   "version": "3.6.13"
  },
  "vscode": {
   "interpreter": {
    "hash": "807188b08fc999c55efca014ab0dc7eb5e1af76d7deb853a572259c12a82e303"
   }
  }
 },
 "nbformat": 4,
 "nbformat_minor": 5
}
