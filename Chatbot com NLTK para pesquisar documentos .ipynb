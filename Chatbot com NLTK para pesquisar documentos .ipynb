{
 "cells": [
  {
   "cell_type": "markdown",
   "id": "b6dc7a3f",
   "metadata": {},
   "source": [
    "### Chatbot com NLTK para pesquisar documentos "
   ]
  },
  {
   "cell_type": "code",
   "execution_count": 4,
   "id": "631b0433",
   "metadata": {},
   "outputs": [],
   "source": [
    "import bs4 as bs # extrai dados da internet \n",
    "import urllib.request # acessar pags web\n",
    "import re # expressões regulares\n",
    "import nltk # processamento de linguagem natural\n",
    "import spacy\n",
    "import numpy as np\n",
    "import random\n",
    "import string\n"
   ]
  },
  {
   "cell_type": "code",
   "execution_count": 5,
   "id": "1db30840",
   "metadata": {},
   "outputs": [
    {
     "name": "stderr",
     "output_type": "stream",
     "text": [
      "'python3' nÆo ‚ reconhecido como um comando interno\n",
      "ou externo, um programa oper vel ou um arquivo em lotes.\n"
     ]
    }
   ],
   "source": []
  },
  {
   "cell_type": "code",
   "execution_count": null,
   "id": "d4ae0895",
   "metadata": {},
   "outputs": [],
   "source": []
  }
 ],
 "metadata": {
  "kernelspec": {
   "display_name": "Python 3 (ipykernel)",
   "language": "python",
   "name": "python3"
  },
  "language_info": {
   "codemirror_mode": {
    "name": "ipython",
    "version": 3
   },
   "file_extension": ".py",
   "mimetype": "text/x-python",
   "name": "python",
   "nbconvert_exporter": "python",
   "pygments_lexer": "ipython3",
   "version": "3.9.10"
  }
 },
 "nbformat": 4,
 "nbformat_minor": 5
}
